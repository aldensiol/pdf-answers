{
 "cells": [
  {
   "cell_type": "code",
   "execution_count": 1,
   "metadata": {},
   "outputs": [],
   "source": [
    "import boto3\n",
    "import fitz\n",
    "import os\n",
    "\n",
    "from botocore.config import Config\n",
    "from dotenv import load_dotenv\n",
    "from langchain_aws import ChatBedrock\n",
    "from langchain_core.output_parsers import StrOutputParser\n",
    "from langchain.prompts import PromptTemplate\n",
    "\n",
    "load_dotenv()\n",
    "\n",
    "aws_default_region = os.getenv('AWS_DEFAULT_REGION')\n",
    "aws_secret_access_key = os.getenv('AWS_SECRET_ACCESS_KEY')\n",
    "aws_access_key_id = os.getenv('AWS_ACCESS_KEY_ID')\n",
    "\n",
    "def get_model():\n",
    "    # configuration for retries\n",
    "    retry_config = Config(\n",
    "        region_name='us-east-1',\n",
    "        retries={\n",
    "            'max_attempts': 10,\n",
    "            'mode': 'standard'\n",
    "        }\n",
    "    )\n",
    "    # initialise Bedrock runtime client\n",
    "    bedrock_runtime = boto3.client(\"bedrock-runtime\", config=retry_config)\n",
    "\n",
    "    # model kwargs\n",
    "    model_id = \"anthropic.claude-3-5-sonnet-20240620-v1:0\" # adjust as needed\n",
    "    # model_id =\"anthropic-beta: max-tokens-3-5-sonnet-2024-07-15\"\n",
    "    model_kwargs = {\n",
    "        \"max_tokens\": 8192,\n",
    "        \"temperature\": 0.0,\n",
    "        \"top_k\": 250,\n",
    "        \"top_p\": 1,\n",
    "        \"stop_sequences\": [\"\\n\\nHuman\"],\n",
    "    }\n",
    "    \n",
    "    llm = ChatBedrock(\n",
    "        client=bedrock_runtime,\n",
    "        model_id=model_id,\n",
    "        model_kwargs=model_kwargs,\n",
    "    )\n",
    "    return llm\n",
    "\n",
    "llm = get_model()"
   ]
  },
  {
   "cell_type": "code",
   "execution_count": 2,
   "metadata": {},
   "outputs": [],
   "source": [
    "def remove_after_references(text):\n",
    "    # Define the substring to search for\n",
    "    marker = \"References\"\n",
    "    \n",
    "    # Find the index of the substring\n",
    "    index = text.find(marker)\n",
    "    \n",
    "    # If the substring is found, slice the string up to the index\n",
    "    if index != -1:\n",
    "        return text[:index + len(marker)]\n",
    "    \n",
    "    # If the substring is not found, return the original text\n",
    "    return text\n",
    "\n",
    "def extract_pdf_text(pdf_path):\n",
    "    # Open the PDF\n",
    "    doc = fitz.open(pdf_path)\n",
    "    text = \"\"\n",
    "    \n",
    "    # Iterate through the pages and extract text\n",
    "    for page in doc:\n",
    "        text += page.get_text()\n",
    "    return remove_after_references(text)"
   ]
  },
  {
   "cell_type": "code",
   "execution_count": 3,
   "metadata": {},
   "outputs": [],
   "source": [
    "PDF_PATH = \"pdfs/Project MUSE - Hard Choices.pdf\"\n",
    "PDF_TEXT = extract_pdf_text(PDF_PATH)"
   ]
  },
  {
   "cell_type": "code",
   "execution_count": 4,
   "metadata": {},
   "outputs": [],
   "source": [
    "answer_prompt = \"\"\"<system>\n",
    "You are an expert academic writer tasked with critically reflecting on PDF articles. Focus on providing analytical depth, objective assessment, and identifying key points.\n",
    "</system>\n",
    "\n",
    "<instructions>\n",
    "You are given a PDF article for analysis. Please analyze the article and write a 300-word critical reflection on the following topic: {topic}.\n",
    "\n",
    "Ensure that the reflection does not focus on personal opinions but critically evaluates the article's arguments and approach. Your reflection should include:\n",
    "\n",
    "1. An appraisal of how well the author substantiates their argument.\n",
    "2. A discussion of any new directions or insights introduced by the article.\n",
    "3. An evaluation of the methods used by the author, identifying whether they support or undermine the argument.\n",
    "4. Any interesting or thought-provoking points raised.\n",
    "5. Connections between the article and broader themes or other readings relevant to the topic.\n",
    "\n",
    "Focus on maintaining an objective tone and a critical approach to assessing the article's strengths and limitations. Do not include any preambles in your reflection.\n",
    "</instructions>\n",
    "\n",
    "<pdf_text>\n",
    "{pdf_text}\n",
    "</pdf_text>\n",
    "\"\"\"\n",
    "\n",
    "answer_prompt_template = PromptTemplate(\n",
    "    template=answer_prompt,\n",
    "    input_variables=[\"topic\", \"pdf_text\"]\n",
    ")"
   ]
  },
  {
   "cell_type": "code",
   "execution_count": 6,
   "metadata": {},
   "outputs": [],
   "source": [
    "answer_chain = answer_prompt_template | llm | StrOutputParser()"
   ]
  },
  {
   "cell_type": "code",
   "execution_count": 7,
   "metadata": {},
   "outputs": [],
   "source": [
    "TOPIC = \"Economy\"\n",
    "response = answer_chain.invoke({\"topic\": TOPIC, \"pdf_text\": PDF_TEXT})"
   ]
  },
  {
   "cell_type": "code",
   "execution_count": 8,
   "metadata": {},
   "outputs": [
    {
     "name": "stdout",
     "output_type": "stream",
     "text": [
      "This critical reflection analyzes the chapter \"The Four Myths of Inequality in Singapore\" by Donald Low, focusing on the first myth discussed in the text.\n",
      "\n",
      "The author effectively challenges the commonly held belief that inequality is a necessary counterpart of economic dynamism and competitiveness. Low presents this myth as a widely accepted assumption in Singapore's policy circles and among the general population. He argues that this belief has attained an almost mythical status, forming a paradigm against which alternative ideas for social security are evaluated.\n",
      "\n",
      "The chapter introduces new insights by questioning the validity of this assumption in light of economic theory and evidence. Low suggests that policymakers should approach the problem of inequality pragmatically, free from dogma and ideology. This approach represents a significant departure from the prevailing mindset in Singapore's governance.\n",
      "\n",
      "The author substantiates his argument by referencing international evidence and economic theory. He acknowledges that the myth seems consistent with these at first glance, citing the rise in income inequality in rich countries over the past 20-30 years. However, Low implies that this surface-level consistency may not hold up under closer scrutiny.\n",
      "\n",
      "One of the most thought-provoking aspects of the chapter is the author's use of the \"Golden Straightjacket\" concept from Thomas Friedman's work. This analogy effectively illustrates the perceived trade-off between economic growth and social equity that underpins the myth.\n",
      "\n",
      "The chapter also draws connections to broader themes by discussing how this myth relates to different economic models, such as those in the United States and Europe. By quoting Prime Minister Lee Hsien Loong's speech, Low demonstrates how this belief influences high-level policy decisions in Singapore.\n",
      "\n",
      "While the excerpt provides a strong introduction to the myth and its prevalence, it would be beneficial to see more detailed economic evidence challenging this assumption. The author hints at counter-arguments but does not fully develop them within the given text. This limitation leaves the reader anticipating a more comprehensive refutation of the myth in the subsequent parts of the chapter.\n"
     ]
    }
   ],
   "source": [
    "print(response)"
   ]
  }
 ],
 "metadata": {
  "kernelspec": {
   "display_name": "Python 3",
   "language": "python",
   "name": "python3"
  },
  "language_info": {
   "codemirror_mode": {
    "name": "ipython",
    "version": 3
   },
   "file_extension": ".py",
   "mimetype": "text/x-python",
   "name": "python",
   "nbconvert_exporter": "python",
   "pygments_lexer": "ipython3",
   "version": "3.11.5"
  }
 },
 "nbformat": 4,
 "nbformat_minor": 2
}
